{
 "cells": [
  {
   "cell_type": "markdown",
   "id": "73b42d17-379f-49bb-8230-8514c85ea19b",
   "metadata": {},
   "source": [
    "Topic : Python basics Veriable"
   ]
  },
  {
   "cell_type": "markdown",
   "id": "a09b67dc-97a5-40fe-8904-39b3f91ec275",
   "metadata": {},
   "source": [
    "1. Declare two variables, 'x' and 'y', and assign them integer values. Swap the values of these variables without using any temporary variable.\n"
   ]
  },
  {
   "cell_type": "code",
   "execution_count": 4,
   "id": "88575232-089d-43cb-bf33-0bdc1092c9be",
   "metadata": {},
   "outputs": [
    {
     "name": "stdout",
     "output_type": "stream",
     "text": [
      " x = 20\n",
      " y = 10\n"
     ]
    }
   ],
   "source": [
    "x=10\n",
    "y=20\n",
    "x=x+y\n",
    "y=x-y\n",
    "x=x-y\n",
    "print(\" x =\",x)\n",
    "print(\" y =\",y)"
   ]
  },
  {
   "cell_type": "markdown",
   "id": "5403106d-555b-4534-a313-09334086d875",
   "metadata": {},
   "source": [
    "2. Create a program that calculates the area of a rectangle. Take the length and width as inputs from the user and store them in variables. Calculate and display the area."
   ]
  },
  {
   "cell_type": "code",
   "execution_count": 6,
   "id": "2c20686b-0ad3-4c24-ab1f-71ae4de1de29",
   "metadata": {},
   "outputs": [
    {
     "name": "stdin",
     "output_type": "stream",
     "text": [
      "Enter length of Rectangle 5\n",
      "Enter width of Rectangle 8\n"
     ]
    },
    {
     "name": "stdout",
     "output_type": "stream",
     "text": [
      "Area of an Rectangle is :  40\n"
     ]
    }
   ],
   "source": [
    "l=int(input(\"Enter length of Rectangle\"))\n",
    "w=int(input(\"Enter width of Rectangle\"))\n",
    "area=l*w\n",
    "print(\"Area of an Rectangle is : \" ,area)"
   ]
  },
  {
   "cell_type": "markdown",
   "id": "bcef3833-4aa2-4fb5-9ae5-6e924760bc08",
   "metadata": {},
   "source": [
    "3. Write a Python program that converts temperature from Celsius to Fahrenheit. Take the temperature in Celsius as input, store it in a variable, convert it to Fahrenheit, and display the result."
   ]
  },
  {
   "cell_type": "code",
   "execution_count": 7,
   "id": "b21d5d30-fb85-4878-858a-a8c28cb06400",
   "metadata": {},
   "outputs": [
    {
     "name": "stdin",
     "output_type": "stream",
     "text": [
      "Enter the tempuretur in Celsius: 32\n"
     ]
    },
    {
     "name": "stdout",
     "output_type": "stream",
     "text": [
      "Tempreature in Fahrenheit :  89.6\n"
     ]
    }
   ],
   "source": [
    "Celsius=int(input(\"Enter the tempuretur in Celsius:\"))\n",
    "F=(Celsius*9/5)+32\n",
    "print(\"Tempreature in Fahrenheit : \",F)"
   ]
  },
  {
   "cell_type": "markdown",
   "id": "602c1650-1b99-4ab5-b8bf-0cd472e35860",
   "metadata": {},
   "source": [
    "\n",
    "\n",
    "Topic: String based Questions"
   ]
  },
  {
   "cell_type": "markdown",
   "id": "67839d39-6ddf-4167-88b3-66d6ea0e553c",
   "metadata": {},
   "source": [
    "1. Write a Python program that takes a string as input and prints the length of the string. "
   ]
  },
  {
   "cell_type": "code",
   "execution_count": 10,
   "id": "8e56c5c1-6bf5-4e06-be58-402c97864fb7",
   "metadata": {},
   "outputs": [
    {
     "name": "stdin",
     "output_type": "stream",
     "text": [
      "Enter the String value hello hiii i am parthavi\n"
     ]
    },
    {
     "name": "stdout",
     "output_type": "stream",
     "text": [
      "length of the string is : 24\n"
     ]
    }
   ],
   "source": [
    "c=input(\"Enter the String value\")\n",
    "print(\"length of the string is :\" , len(c))"
   ]
  },
  {
   "cell_type": "markdown",
   "id": "2223b2ad-72f6-4e28-9979-9b8c2ddc01a6",
   "metadata": {},
   "source": [
    "2.  Create a program that takes a sentence from the user and counts the number of vowels (a, e, i, o, u) in the string."
   ]
  },
  {
   "cell_type": "code",
   "execution_count": 8,
   "id": "7db9b023-ba0a-44ab-93d1-c043dd747dbc",
   "metadata": {},
   "outputs": [
    {
     "name": "stdin",
     "output_type": "stream",
     "text": [
      "Enter the string i am a good porson\n"
     ]
    },
    {
     "name": "stdout",
     "output_type": "stream",
     "text": [
      "Number of vowels in given string 7\n"
     ]
    }
   ],
   "source": [
    "p=str(input(\"Enter the string\"))\n",
    "count=0\n",
    "i=0\n",
    "for i in range(len(p)):\n",
    "   if (p[i]=='a' or p[i]=='e' or p[i]=='i' or p[i]=='o' or p[i]=='u'):\n",
    "     count=count+1\n",
    "     i=i+1             \n",
    "print(\"Number of vowels in given string\",count)"
   ]
  },
  {
   "cell_type": "markdown",
   "id": "e42fe2a6-7b73-43ae-a405-03ca3a1f90c1",
   "metadata": {},
   "source": [
    "3. Given a string, reverse the order of characters using string slicing and print the reversed string."
   ]
  },
  {
   "cell_type": "code",
   "execution_count": 2,
   "id": "f8e2792a-55f1-4728-ab1b-e99bfea54c75",
   "metadata": {},
   "outputs": [
    {
     "name": "stdin",
     "output_type": "stream",
     "text": [
      "Enter the string :  india\n"
     ]
    },
    {
     "data": {
      "text/plain": [
       "'aidni'"
      ]
     },
     "execution_count": 2,
     "metadata": {},
     "output_type": "execute_result"
    }
   ],
   "source": [
    "a=input(\"Enter the string : \")\n",
    "a[::-1]"
   ]
  },
  {
   "cell_type": "markdown",
   "id": "9a78de15-da80-40db-bfb8-b640d6d4db9f",
   "metadata": {},
   "source": [
    "4. Write a program that takes a string as input and checks if it is a palindrome (reads the same forwards and backwards). "
   ]
  },
  {
   "cell_type": "code",
   "execution_count": 8,
   "id": "2cd59c5f-1335-4ebe-84ce-3c293091b846",
   "metadata": {},
   "outputs": [
    {
     "name": "stdin",
     "output_type": "stream",
     "text": [
      "Enter the string :  madam\n"
     ]
    },
    {
     "name": "stdout",
     "output_type": "stream",
     "text": [
      "String is a Pelindrome.\n"
     ]
    }
   ],
   "source": [
    "s=input(\"Enter the string : \")\n",
    "R=(s[::-1])\n",
    "if R==s:\n",
    "    print(\"String is a Pelindrome.\")\n",
    "else:\n",
    "    print(\"String is not Palindrome\")\n"
   ]
  },
  {
   "cell_type": "markdown",
   "id": "8b121032-ab3f-4a1e-b576-75303db8a8a4",
   "metadata": {},
   "source": [
    "5. Create a program that takes a string as input and removes all the spaces from it. Print the modified string without spaces."
   ]
  },
  {
   "cell_type": "code",
   "execution_count": null,
   "id": "5d8bd8e8-3e44-45d8-bab5-79209618d4f7",
   "metadata": {},
   "outputs": [],
   "source": [
    "tring=input(\"Enter a string : \")\n",
    "def removespace(input_string):\n",
    "    newstring = input_string.replace(\" \", \"\")\n",
    "    return newstring\n",
    "result = removespaces(string)\n",
    "print(\"Modified string without spaces:\", result)"
   ]
  },
  {
   "cell_type": "code",
   "execution_count": null,
   "id": "11f27bca-97e7-48c5-ab5b-075cb1808af3",
   "metadata": {},
   "outputs": [],
   "source": []
  }
 ],
 "metadata": {
  "kernelspec": {
   "display_name": "Python 3 (ipykernel)",
   "language": "python",
   "name": "python3"
  },
  "language_info": {
   "codemirror_mode": {
    "name": "ipython",
    "version": 3
   },
   "file_extension": ".py",
   "mimetype": "text/x-python",
   "name": "python",
   "nbconvert_exporter": "python",
   "pygments_lexer": "ipython3",
   "version": "3.10.8"
  }
 },
 "nbformat": 4,
 "nbformat_minor": 5
}
